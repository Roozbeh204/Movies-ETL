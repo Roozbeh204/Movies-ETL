{
 "cells": [
  {
   "cell_type": "code",
   "execution_count": 1,
   "id": "bfa44e53",
   "metadata": {},
   "outputs": [],
   "source": [
    "import pandas as pd"
   ]
  },
  {
   "cell_type": "code",
   "execution_count": 2,
   "id": "edcf731c",
   "metadata": {},
   "outputs": [
    {
     "data": {
      "text/html": [
       "<div>\n",
       "<style scoped>\n",
       "    .dataframe tbody tr th:only-of-type {\n",
       "        vertical-align: middle;\n",
       "    }\n",
       "\n",
       "    .dataframe tbody tr th {\n",
       "        vertical-align: top;\n",
       "    }\n",
       "\n",
       "    .dataframe thead th {\n",
       "        text-align: right;\n",
       "    }\n",
       "</style>\n",
       "<table border=\"1\" class=\"dataframe\">\n",
       "  <thead>\n",
       "    <tr style=\"text-align: right;\">\n",
       "      <th></th>\n",
       "      <th>userId</th>\n",
       "      <th>movieId</th>\n",
       "      <th>rating</th>\n",
       "      <th>timestamp</th>\n",
       "    </tr>\n",
       "  </thead>\n",
       "  <tbody>\n",
       "    <tr>\n",
       "      <th>23709693</th>\n",
       "      <td>246082</td>\n",
       "      <td>592</td>\n",
       "      <td>4.0</td>\n",
       "      <td>833090212</td>\n",
       "    </tr>\n",
       "    <tr>\n",
       "      <th>10026320</th>\n",
       "      <td>103443</td>\n",
       "      <td>3328</td>\n",
       "      <td>4.0</td>\n",
       "      <td>1045851683</td>\n",
       "    </tr>\n",
       "    <tr>\n",
       "      <th>6538834</th>\n",
       "      <td>67497</td>\n",
       "      <td>260</td>\n",
       "      <td>4.0</td>\n",
       "      <td>944943590</td>\n",
       "    </tr>\n",
       "    <tr>\n",
       "      <th>3843961</th>\n",
       "      <td>40041</td>\n",
       "      <td>4262</td>\n",
       "      <td>4.5</td>\n",
       "      <td>1199461511</td>\n",
       "    </tr>\n",
       "    <tr>\n",
       "      <th>20424831</th>\n",
       "      <td>212236</td>\n",
       "      <td>4144</td>\n",
       "      <td>4.0</td>\n",
       "      <td>1429152427</td>\n",
       "    </tr>\n",
       "  </tbody>\n",
       "</table>\n",
       "</div>"
      ],
      "text/plain": [
       "          userId  movieId  rating   timestamp\n",
       "23709693  246082      592     4.0   833090212\n",
       "10026320  103443     3328     4.0  1045851683\n",
       "6538834    67497      260     4.0   944943590\n",
       "3843961    40041     4262     4.5  1199461511\n",
       "20424831  212236     4144     4.0  1429152427"
      ]
     },
     "execution_count": 2,
     "metadata": {},
     "output_type": "execute_result"
    }
   ],
   "source": [
    "ratings_pd = pd.read_csv(\"Resources/ratings.csv\")\n",
    "ratings_pd.head()\n",
    "ratings_pd.sample(n=5)"
   ]
  },
  {
   "cell_type": "code",
   "execution_count": 3,
   "id": "1e494d06",
   "metadata": {},
   "outputs": [
    {
     "data": {
      "text/html": [
       "<div>\n",
       "<style scoped>\n",
       "    .dataframe tbody tr th:only-of-type {\n",
       "        vertical-align: middle;\n",
       "    }\n",
       "\n",
       "    .dataframe tbody tr th {\n",
       "        vertical-align: top;\n",
       "    }\n",
       "\n",
       "    .dataframe thead th {\n",
       "        text-align: right;\n",
       "    }\n",
       "</style>\n",
       "<table border=\"1\" class=\"dataframe\">\n",
       "  <thead>\n",
       "    <tr style=\"text-align: right;\">\n",
       "      <th></th>\n",
       "      <th>adult</th>\n",
       "      <th>belongs_to_collection</th>\n",
       "      <th>budget</th>\n",
       "      <th>genres</th>\n",
       "      <th>homepage</th>\n",
       "      <th>id</th>\n",
       "      <th>imdb_id</th>\n",
       "      <th>original_language</th>\n",
       "      <th>original_title</th>\n",
       "      <th>overview</th>\n",
       "      <th>...</th>\n",
       "      <th>release_date</th>\n",
       "      <th>revenue</th>\n",
       "      <th>runtime</th>\n",
       "      <th>spoken_languages</th>\n",
       "      <th>status</th>\n",
       "      <th>tagline</th>\n",
       "      <th>title</th>\n",
       "      <th>video</th>\n",
       "      <th>vote_average</th>\n",
       "      <th>vote_count</th>\n",
       "    </tr>\n",
       "  </thead>\n",
       "  <tbody>\n",
       "    <tr>\n",
       "      <th>2632</th>\n",
       "      <td>False</td>\n",
       "      <td>NaN</td>\n",
       "      <td>30000</td>\n",
       "      <td>[{'id': 35, 'name': 'Comedy'}]</td>\n",
       "      <td>NaN</td>\n",
       "      <td>24452</td>\n",
       "      <td>tt0054033</td>\n",
       "      <td>en</td>\n",
       "      <td>The Little Shop of Horrors</td>\n",
       "      <td>Black comedy about a young man who creates a c...</td>\n",
       "      <td>...</td>\n",
       "      <td>1960-09-14</td>\n",
       "      <td>0.0</td>\n",
       "      <td>70.0</td>\n",
       "      <td>[{'iso_639_1': 'en', 'name': 'English'}]</td>\n",
       "      <td>Released</td>\n",
       "      <td>The funniest picture of the year!</td>\n",
       "      <td>The Little Shop of Horrors</td>\n",
       "      <td>False</td>\n",
       "      <td>6.2</td>\n",
       "      <td>78.0</td>\n",
       "    </tr>\n",
       "    <tr>\n",
       "      <th>29603</th>\n",
       "      <td>False</td>\n",
       "      <td>NaN</td>\n",
       "      <td>0</td>\n",
       "      <td>[{'id': 99, 'name': 'Documentary'}]</td>\n",
       "      <td>http://oc87.com/OC87.html</td>\n",
       "      <td>105972</td>\n",
       "      <td>tt1550557</td>\n",
       "      <td>en</td>\n",
       "      <td>OC87: The Obsessive Compulsive, Major Depressi...</td>\n",
       "      <td>Director Bud Clayman documents his struggle wi...</td>\n",
       "      <td>...</td>\n",
       "      <td>2012-05-25</td>\n",
       "      <td>0.0</td>\n",
       "      <td>100.0</td>\n",
       "      <td>[{'iso_639_1': 'en', 'name': 'English'}]</td>\n",
       "      <td>Released</td>\n",
       "      <td>NaN</td>\n",
       "      <td>OC87: The Obsessive Compulsive, Major Depressi...</td>\n",
       "      <td>False</td>\n",
       "      <td>7.0</td>\n",
       "      <td>3.0</td>\n",
       "    </tr>\n",
       "    <tr>\n",
       "      <th>22928</th>\n",
       "      <td>False</td>\n",
       "      <td>NaN</td>\n",
       "      <td>0</td>\n",
       "      <td>[{'id': 35, 'name': 'Comedy'}, {'id': 18, 'nam...</td>\n",
       "      <td>NaN</td>\n",
       "      <td>87587</td>\n",
       "      <td>tt1691154</td>\n",
       "      <td>en</td>\n",
       "      <td>The Pill</td>\n",
       "      <td>Worried that he has gotten the free-spirited M...</td>\n",
       "      <td>...</td>\n",
       "      <td>2011-12-16</td>\n",
       "      <td>0.0</td>\n",
       "      <td>83.0</td>\n",
       "      <td>[{'iso_639_1': 'en', 'name': 'English'}]</td>\n",
       "      <td>Released</td>\n",
       "      <td>NaN</td>\n",
       "      <td>The Pill</td>\n",
       "      <td>False</td>\n",
       "      <td>5.6</td>\n",
       "      <td>49.0</td>\n",
       "    </tr>\n",
       "    <tr>\n",
       "      <th>25507</th>\n",
       "      <td>False</td>\n",
       "      <td>NaN</td>\n",
       "      <td>0</td>\n",
       "      <td>[{'id': 35, 'name': 'Comedy'}, {'id': 28, 'nam...</td>\n",
       "      <td>NaN</td>\n",
       "      <td>255906</td>\n",
       "      <td>tt0076026</td>\n",
       "      <td>it</td>\n",
       "      <td>Il figlio dello sceicco</td>\n",
       "      <td>NaN</td>\n",
       "      <td>...</td>\n",
       "      <td>1977-02-16</td>\n",
       "      <td>0.0</td>\n",
       "      <td>NaN</td>\n",
       "      <td>[{'iso_639_1': 'it', 'name': 'Italiano'}]</td>\n",
       "      <td>Released</td>\n",
       "      <td>NaN</td>\n",
       "      <td>Il figlio dello sceicco</td>\n",
       "      <td>False</td>\n",
       "      <td>4.5</td>\n",
       "      <td>2.0</td>\n",
       "    </tr>\n",
       "    <tr>\n",
       "      <th>31567</th>\n",
       "      <td>False</td>\n",
       "      <td>NaN</td>\n",
       "      <td>0</td>\n",
       "      <td>[{'id': 10749, 'name': 'Romance'}, {'id': 35, ...</td>\n",
       "      <td>NaN</td>\n",
       "      <td>262789</td>\n",
       "      <td>tt3628598</td>\n",
       "      <td>it</td>\n",
       "      <td>Ti ricordi di me?</td>\n",
       "      <td>The Rascal and The Scatterbrain - is their lov...</td>\n",
       "      <td>...</td>\n",
       "      <td>2014-04-03</td>\n",
       "      <td>0.0</td>\n",
       "      <td>91.0</td>\n",
       "      <td>[{'iso_639_1': 'it', 'name': 'Italiano'}]</td>\n",
       "      <td>Released</td>\n",
       "      <td>NaN</td>\n",
       "      <td>Ti ricordi di me?</td>\n",
       "      <td>False</td>\n",
       "      <td>6.9</td>\n",
       "      <td>46.0</td>\n",
       "    </tr>\n",
       "  </tbody>\n",
       "</table>\n",
       "<p>5 rows × 24 columns</p>\n",
       "</div>"
      ],
      "text/plain": [
       "       adult belongs_to_collection budget  \\\n",
       "2632   False                   NaN  30000   \n",
       "29603  False                   NaN      0   \n",
       "22928  False                   NaN      0   \n",
       "25507  False                   NaN      0   \n",
       "31567  False                   NaN      0   \n",
       "\n",
       "                                                  genres  \\\n",
       "2632                      [{'id': 35, 'name': 'Comedy'}]   \n",
       "29603                [{'id': 99, 'name': 'Documentary'}]   \n",
       "22928  [{'id': 35, 'name': 'Comedy'}, {'id': 18, 'nam...   \n",
       "25507  [{'id': 35, 'name': 'Comedy'}, {'id': 28, 'nam...   \n",
       "31567  [{'id': 10749, 'name': 'Romance'}, {'id': 35, ...   \n",
       "\n",
       "                        homepage      id    imdb_id original_language  \\\n",
       "2632                         NaN   24452  tt0054033                en   \n",
       "29603  http://oc87.com/OC87.html  105972  tt1550557                en   \n",
       "22928                        NaN   87587  tt1691154                en   \n",
       "25507                        NaN  255906  tt0076026                it   \n",
       "31567                        NaN  262789  tt3628598                it   \n",
       "\n",
       "                                          original_title  \\\n",
       "2632                          The Little Shop of Horrors   \n",
       "29603  OC87: The Obsessive Compulsive, Major Depressi...   \n",
       "22928                                           The Pill   \n",
       "25507                            Il figlio dello sceicco   \n",
       "31567                                  Ti ricordi di me?   \n",
       "\n",
       "                                                overview  ... release_date  \\\n",
       "2632   Black comedy about a young man who creates a c...  ...   1960-09-14   \n",
       "29603  Director Bud Clayman documents his struggle wi...  ...   2012-05-25   \n",
       "22928  Worried that he has gotten the free-spirited M...  ...   2011-12-16   \n",
       "25507                                                NaN  ...   1977-02-16   \n",
       "31567  The Rascal and The Scatterbrain - is their lov...  ...   2014-04-03   \n",
       "\n",
       "      revenue runtime                           spoken_languages    status  \\\n",
       "2632      0.0    70.0   [{'iso_639_1': 'en', 'name': 'English'}]  Released   \n",
       "29603     0.0   100.0   [{'iso_639_1': 'en', 'name': 'English'}]  Released   \n",
       "22928     0.0    83.0   [{'iso_639_1': 'en', 'name': 'English'}]  Released   \n",
       "25507     0.0     NaN  [{'iso_639_1': 'it', 'name': 'Italiano'}]  Released   \n",
       "31567     0.0    91.0  [{'iso_639_1': 'it', 'name': 'Italiano'}]  Released   \n",
       "\n",
       "                                 tagline  \\\n",
       "2632   The funniest picture of the year!   \n",
       "29603                                NaN   \n",
       "22928                                NaN   \n",
       "25507                                NaN   \n",
       "31567                                NaN   \n",
       "\n",
       "                                                   title  video vote_average  \\\n",
       "2632                          The Little Shop of Horrors  False          6.2   \n",
       "29603  OC87: The Obsessive Compulsive, Major Depressi...  False          7.0   \n",
       "22928                                           The Pill  False          5.6   \n",
       "25507                            Il figlio dello sceicco  False          4.5   \n",
       "31567                                  Ti ricordi di me?  False          6.9   \n",
       "\n",
       "      vote_count  \n",
       "2632        78.0  \n",
       "29603        3.0  \n",
       "22928       49.0  \n",
       "25507        2.0  \n",
       "31567       46.0  \n",
       "\n",
       "[5 rows x 24 columns]"
      ]
     },
     "execution_count": 3,
     "metadata": {},
     "output_type": "execute_result"
    }
   ],
   "source": [
    "movies_metadata_pd = pd.read_csv(\"Resources/movies_metadata.csv\", low_memory=False)\n",
    "movies_metadata_pd.head()\n",
    "movies_metadata_pd.sample(n=5)"
   ]
  },
  {
   "cell_type": "code",
   "execution_count": 4,
   "id": "aa4a5645",
   "metadata": {},
   "outputs": [
    {
     "data": {
      "text/plain": [
       "adult                     object\n",
       "belongs_to_collection     object\n",
       "budget                    object\n",
       "genres                    object\n",
       "homepage                  object\n",
       "id                        object\n",
       "imdb_id                   object\n",
       "original_language         object\n",
       "original_title            object\n",
       "overview                  object\n",
       "popularity                object\n",
       "poster_path               object\n",
       "production_companies      object\n",
       "production_countries      object\n",
       "release_date              object\n",
       "revenue                  float64\n",
       "runtime                  float64\n",
       "spoken_languages          object\n",
       "status                    object\n",
       "tagline                   object\n",
       "title                     object\n",
       "video                     object\n",
       "vote_average             float64\n",
       "vote_count               float64\n",
       "dtype: object"
      ]
     },
     "execution_count": 4,
     "metadata": {},
     "output_type": "execute_result"
    }
   ],
   "source": [
    "movies_metadata_pd.dtypes"
   ]
  },
  {
   "cell_type": "code",
   "execution_count": 5,
   "id": "7e292819",
   "metadata": {},
   "outputs": [],
   "source": [
    "movies_metadata_pd = movies_metadata_pd[movies_metadata_pd['adult'] == 'False'].drop('adult',axis='columns')"
   ]
  },
  {
   "cell_type": "code",
   "execution_count": 6,
   "id": "72cc317c",
   "metadata": {},
   "outputs": [
    {
     "data": {
      "text/plain": [
       "False    45358\n",
       "True        93\n",
       "Name: video, dtype: int64"
      ]
     },
     "execution_count": 6,
     "metadata": {},
     "output_type": "execute_result"
    }
   ],
   "source": [
    "movies_metadata_pd['video'].value_counts()"
   ]
  },
  {
   "cell_type": "code",
   "execution_count": 7,
   "id": "38d7fa49",
   "metadata": {},
   "outputs": [
    {
     "data": {
      "text/plain": [
       "0        False\n",
       "1        False\n",
       "2        False\n",
       "3        False\n",
       "4        False\n",
       "         ...  \n",
       "45461    False\n",
       "45462    False\n",
       "45463    False\n",
       "45464    False\n",
       "45465    False\n",
       "Name: video, Length: 45454, dtype: bool"
      ]
     },
     "execution_count": 7,
     "metadata": {},
     "output_type": "execute_result"
    }
   ],
   "source": [
    "movies_metadata_pd['video'] == 'True'"
   ]
  },
  {
   "cell_type": "code",
   "execution_count": 8,
   "id": "816c3d53",
   "metadata": {},
   "outputs": [],
   "source": [
    "movies_metadata_pd['video'] = movies_metadata_pd['video'] == 'True'"
   ]
  },
  {
   "cell_type": "code",
   "execution_count": 9,
   "id": "f9d7334e",
   "metadata": {},
   "outputs": [],
   "source": [
    "movies_metadata_pd['budget'] = movies_metadata_pd['budget'].astype(int)\n",
    "movies_metadata_pd['id'] = pd.to_numeric(movies_metadata_pd['id'], errors='raise')\n",
    "movies_metadata_pd['popularity'] = pd.to_numeric(movies_metadata_pd['popularity'], errors='raise')"
   ]
  },
  {
   "cell_type": "code",
   "execution_count": 10,
   "id": "6ceacbf8",
   "metadata": {},
   "outputs": [],
   "source": [
    "movies_metadata_pd['release_date'] = pd.to_datetime(movies_metadata_pd['release_date'])"
   ]
  },
  {
   "cell_type": "code",
   "execution_count": 11,
   "id": "36426446",
   "metadata": {},
   "outputs": [
    {
     "name": "stderr",
     "output_type": "stream",
     "text": [
      "C:\\Users\\User\\AppData\\Local\\Temp\\ipykernel_15328\\1290786186.py:1: FutureWarning: null_counts is deprecated. Use show_counts instead\n",
      "  ratings_pd.info(null_counts=True)\n"
     ]
    },
    {
     "name": "stdout",
     "output_type": "stream",
     "text": [
      "<class 'pandas.core.frame.DataFrame'>\n",
      "RangeIndex: 26024289 entries, 0 to 26024288\n",
      "Data columns (total 4 columns):\n",
      " #   Column     Non-Null Count     Dtype  \n",
      "---  ------     --------------     -----  \n",
      " 0   userId     26024289 non-null  int64  \n",
      " 1   movieId    26024289 non-null  int64  \n",
      " 2   rating     26024289 non-null  float64\n",
      " 3   timestamp  26024289 non-null  int64  \n",
      "dtypes: float64(1), int64(3)\n",
      "memory usage: 794.2 MB\n"
     ]
    }
   ],
   "source": [
    "ratings_pd.info(null_counts=True)"
   ]
  },
  {
   "cell_type": "code",
   "execution_count": 12,
   "id": "1f709aa3",
   "metadata": {},
   "outputs": [
    {
     "data": {
      "text/plain": [
       "0          2015-03-09 22:52:09\n",
       "1          2015-03-09 23:07:15\n",
       "2          2015-03-09 22:52:03\n",
       "3          2015-03-09 22:52:26\n",
       "4          2015-03-09 22:52:36\n",
       "                   ...        \n",
       "26024284   2009-10-31 23:26:04\n",
       "26024285   2009-10-31 23:33:52\n",
       "26024286   2009-10-31 23:29:24\n",
       "26024287   2009-11-01 00:06:30\n",
       "26024288   2009-10-31 23:30:58\n",
       "Name: timestamp, Length: 26024289, dtype: datetime64[ns]"
      ]
     },
     "execution_count": 12,
     "metadata": {},
     "output_type": "execute_result"
    }
   ],
   "source": [
    "pd.to_datetime(ratings_pd['timestamp'], unit='s')"
   ]
  },
  {
   "cell_type": "code",
   "execution_count": 13,
   "id": "aa0f541f",
   "metadata": {},
   "outputs": [],
   "source": [
    "ratings_pd['timestamp'] = pd.to_datetime(ratings_pd['timestamp'], unit='s')"
   ]
  },
  {
   "cell_type": "code",
   "execution_count": 15,
   "id": "da7d8042",
   "metadata": {},
   "outputs": [
    {
     "data": {
      "text/plain": [
       "count          26,024,289.00\n",
       "mean                    3.53\n",
       "std                     1.07\n",
       "min                     0.50\n",
       "25%                     3.00\n",
       "50%                     3.50\n",
       "75%                     4.00\n",
       "max                     5.00\n",
       "Name: rating, dtype: float64"
      ]
     },
     "execution_count": 15,
     "metadata": {},
     "output_type": "execute_result"
    },
    {
     "data": {
      "image/png": "[encoded data removed]",
      "text/plain": [
       "<Figure size 432x288 with 1 Axes>"
      ]
     },
     "metadata": {
      "needs_background": "light"
     },
     "output_type": "display_data"
    }
   ],
   "source": [
    "pd.options.display.float_format = '{:20,.2f}'.format\n",
    "ratings_pd['rating'].plot(kind='hist')\n",
    "ratings_pd['rating'].describe()"
   ]
  },
  {
   "cell_type": "code",
   "execution_count": 16,
   "id": "80e55884",
   "metadata": {},
   "outputs": [
    {
     "ename": "NameError",
     "evalue": "name 'wiki_movies_df' is not defined",
     "output_type": "error",
     "traceback": [
      "\u001b[1;31m---------------------------------------------------------------------------\u001b[0m",
      "\u001b[1;31mNameError\u001b[0m                                 Traceback (most recent call last)",
      "Input \u001b[1;32mIn [16]\u001b[0m, in \u001b[0;36m<cell line: 1>\u001b[1;34m()\u001b[0m\n\u001b[1;32m----> 1\u001b[0m movies_df \u001b[38;5;241m=\u001b[39m pd\u001b[38;5;241m.\u001b[39mmerge(\u001b[43mwiki_movies_df\u001b[49m, movies_metadata_pd, on\u001b[38;5;241m=\u001b[39m\u001b[38;5;124m'\u001b[39m\u001b[38;5;124mimdb_id\u001b[39m\u001b[38;5;124m'\u001b[39m, suffixes\u001b[38;5;241m=\u001b[39m[\u001b[38;5;124m'\u001b[39m\u001b[38;5;124m_wiki\u001b[39m\u001b[38;5;124m'\u001b[39m,\u001b[38;5;124m'\u001b[39m\u001b[38;5;124m_kaggle\u001b[39m\u001b[38;5;124m'\u001b[39m])\n",
      "\u001b[1;31mNameError\u001b[0m: name 'wiki_movies_df' is not defined"
     ]
    }
   ],
   "source": [
    "movies_df = pd.merge(wiki_movies_df, movies_metadata_pd, on='imdb_id', suffixes=['_wiki','_kaggle'])"
   ]
  }
 ],
 "metadata": {
  "kernelspec": {
   "display_name": "PythonData",
   "language": "python",
   "name": "pythondata"
  },
  "language_info": {
   "codemirror_mode": {
    "name": "ipython",
    "version": 3
   },
   "file_extension": ".py",
   "mimetype": "text/x-python",
   "name": "python",
   "nbconvert_exporter": "python",
   "pygments_lexer": "ipython3",
   "version": "3.9.12"
  }
 },
 "nbformat": 4,
 "nbformat_minor": 5
}
