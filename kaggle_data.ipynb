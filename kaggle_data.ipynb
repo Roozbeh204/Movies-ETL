{
 "cells": [
  {
   "cell_type": "code",
   "execution_count": 1,
   "id": "bfa44e53",
   "metadata": {},
   "outputs": [],
   "source": [
    "import pandas as pd"
   ]
  },
  {
   "cell_type": "code",
   "execution_count": 2,
   "id": "edcf731c",
   "metadata": {},
   "outputs": [
    {
     "data": {
      "text/html": [
       "<div>\n",
       "<style scoped>\n",
       "    .dataframe tbody tr th:only-of-type {\n",
       "        vertical-align: middle;\n",
       "    }\n",
       "\n",
       "    .dataframe tbody tr th {\n",
       "        vertical-align: top;\n",
       "    }\n",
       "\n",
       "    .dataframe thead th {\n",
       "        text-align: right;\n",
       "    }\n",
       "</style>\n",
       "<table border=\"1\" class=\"dataframe\">\n",
       "  <thead>\n",
       "    <tr style=\"text-align: right;\">\n",
       "      <th></th>\n",
       "      <th>userId</th>\n",
       "      <th>movieId</th>\n",
       "      <th>rating</th>\n",
       "      <th>timestamp</th>\n",
       "    </tr>\n",
       "  </thead>\n",
       "  <tbody>\n",
       "    <tr>\n",
       "      <th>11844982</th>\n",
       "      <td>122831</td>\n",
       "      <td>7386</td>\n",
       "      <td>4.0</td>\n",
       "      <td>1218402383</td>\n",
       "    </tr>\n",
       "    <tr>\n",
       "      <th>25229293</th>\n",
       "      <td>262628</td>\n",
       "      <td>5299</td>\n",
       "      <td>5.0</td>\n",
       "      <td>1111421740</td>\n",
       "    </tr>\n",
       "    <tr>\n",
       "      <th>20919877</th>\n",
       "      <td>217384</td>\n",
       "      <td>590</td>\n",
       "      <td>4.0</td>\n",
       "      <td>838670816</td>\n",
       "    </tr>\n",
       "    <tr>\n",
       "      <th>17057934</th>\n",
       "      <td>177147</td>\n",
       "      <td>6974</td>\n",
       "      <td>2.5</td>\n",
       "      <td>1137053112</td>\n",
       "    </tr>\n",
       "    <tr>\n",
       "      <th>11974922</th>\n",
       "      <td>124070</td>\n",
       "      <td>4308</td>\n",
       "      <td>4.5</td>\n",
       "      <td>1465149099</td>\n",
       "    </tr>\n",
       "  </tbody>\n",
       "</table>\n",
       "</div>"
      ],
      "text/plain": [
       "          userId  movieId  rating   timestamp\n",
       "11844982  122831     7386     4.0  1218402383\n",
       "25229293  262628     5299     5.0  1111421740\n",
       "20919877  217384      590     4.0   838670816\n",
       "17057934  177147     6974     2.5  1137053112\n",
       "11974922  124070     4308     4.5  1465149099"
      ]
     },
     "execution_count": 2,
     "metadata": {},
     "output_type": "execute_result"
    }
   ],
   "source": [
    "ratings_pd = pd.read_csv(\"Resources/ratings.csv\")\n",
    "ratings_pd.head()\n",
    "ratings_pd.sample(n=5)"
   ]
  },
  {
   "cell_type": "code",
   "execution_count": 3,
   "id": "1e494d06",
   "metadata": {},
   "outputs": [
    {
     "data": {
      "text/html": [
       "<div>\n",
       "<style scoped>\n",
       "    .dataframe tbody tr th:only-of-type {\n",
       "        vertical-align: middle;\n",
       "    }\n",
       "\n",
       "    .dataframe tbody tr th {\n",
       "        vertical-align: top;\n",
       "    }\n",
       "\n",
       "    .dataframe thead th {\n",
       "        text-align: right;\n",
       "    }\n",
       "</style>\n",
       "<table border=\"1\" class=\"dataframe\">\n",
       "  <thead>\n",
       "    <tr style=\"text-align: right;\">\n",
       "      <th></th>\n",
       "      <th>adult</th>\n",
       "      <th>belongs_to_collection</th>\n",
       "      <th>budget</th>\n",
       "      <th>genres</th>\n",
       "      <th>homepage</th>\n",
       "      <th>id</th>\n",
       "      <th>imdb_id</th>\n",
       "      <th>original_language</th>\n",
       "      <th>original_title</th>\n",
       "      <th>overview</th>\n",
       "      <th>...</th>\n",
       "      <th>release_date</th>\n",
       "      <th>revenue</th>\n",
       "      <th>runtime</th>\n",
       "      <th>spoken_languages</th>\n",
       "      <th>status</th>\n",
       "      <th>tagline</th>\n",
       "      <th>title</th>\n",
       "      <th>video</th>\n",
       "      <th>vote_average</th>\n",
       "      <th>vote_count</th>\n",
       "    </tr>\n",
       "  </thead>\n",
       "  <tbody>\n",
       "    <tr>\n",
       "      <th>18702</th>\n",
       "      <td>False</td>\n",
       "      <td>NaN</td>\n",
       "      <td>2391200</td>\n",
       "      <td>[{'id': 18, 'name': 'Drama'}, {'id': 10769, 'n...</td>\n",
       "      <td>http://www.united-red-army.com/</td>\n",
       "      <td>46101</td>\n",
       "      <td>tt0923869</td>\n",
       "      <td>ja</td>\n",
       "      <td>実録・連合赤軍 あさま山荘への道程</td>\n",
       "      <td>The film is told in three acts, beginning with...</td>\n",
       "      <td>...</td>\n",
       "      <td>2007-08-26</td>\n",
       "      <td>0.0</td>\n",
       "      <td>190.0</td>\n",
       "      <td>[{'iso_639_1': 'ja', 'name': '日本語'}]</td>\n",
       "      <td>Released</td>\n",
       "      <td>NaN</td>\n",
       "      <td>United Red Army</td>\n",
       "      <td>False</td>\n",
       "      <td>6.1</td>\n",
       "      <td>8.0</td>\n",
       "    </tr>\n",
       "    <tr>\n",
       "      <th>44728</th>\n",
       "      <td>False</td>\n",
       "      <td>NaN</td>\n",
       "      <td>0</td>\n",
       "      <td>[]</td>\n",
       "      <td>NaN</td>\n",
       "      <td>196491</td>\n",
       "      <td>tt0173368</td>\n",
       "      <td>fr</td>\n",
       "      <td>Les tulipes</td>\n",
       "      <td>Magical flowery frolics, similar to a Melies f...</td>\n",
       "      <td>...</td>\n",
       "      <td>1907-05-23</td>\n",
       "      <td>0.0</td>\n",
       "      <td>3.0</td>\n",
       "      <td>[]</td>\n",
       "      <td>Released</td>\n",
       "      <td>NaN</td>\n",
       "      <td>Les tulipes</td>\n",
       "      <td>False</td>\n",
       "      <td>4.5</td>\n",
       "      <td>2.0</td>\n",
       "    </tr>\n",
       "    <tr>\n",
       "      <th>31941</th>\n",
       "      <td>False</td>\n",
       "      <td>NaN</td>\n",
       "      <td>0</td>\n",
       "      <td>[]</td>\n",
       "      <td>NaN</td>\n",
       "      <td>138550</td>\n",
       "      <td>tt1920996</td>\n",
       "      <td>en</td>\n",
       "      <td>La máquina que hace estrellas</td>\n",
       "      <td>Pilo is a 10-year-old boy who lives with his m...</td>\n",
       "      <td>...</td>\n",
       "      <td>2012-08-30</td>\n",
       "      <td>0.0</td>\n",
       "      <td>80.0</td>\n",
       "      <td>[{'iso_639_1': 'es', 'name': 'Español'}]</td>\n",
       "      <td>Released</td>\n",
       "      <td>NaN</td>\n",
       "      <td>The Star Making Machine</td>\n",
       "      <td>False</td>\n",
       "      <td>4.5</td>\n",
       "      <td>2.0</td>\n",
       "    </tr>\n",
       "    <tr>\n",
       "      <th>39992</th>\n",
       "      <td>False</td>\n",
       "      <td>NaN</td>\n",
       "      <td>0</td>\n",
       "      <td>[{'id': 28, 'name': 'Action'}, {'id': 12, 'nam...</td>\n",
       "      <td>NaN</td>\n",
       "      <td>21837</td>\n",
       "      <td>tt1209380</td>\n",
       "      <td>en</td>\n",
       "      <td>Cop Dog</td>\n",
       "      <td>Ever since Robby's father was killed while on ...</td>\n",
       "      <td>...</td>\n",
       "      <td>2008-01-01</td>\n",
       "      <td>0.0</td>\n",
       "      <td>0.0</td>\n",
       "      <td>[]</td>\n",
       "      <td>Released</td>\n",
       "      <td>NaN</td>\n",
       "      <td>Cop Dog</td>\n",
       "      <td>False</td>\n",
       "      <td>7.0</td>\n",
       "      <td>1.0</td>\n",
       "    </tr>\n",
       "    <tr>\n",
       "      <th>19754</th>\n",
       "      <td>False</td>\n",
       "      <td>NaN</td>\n",
       "      <td>0</td>\n",
       "      <td>[{'id': 18, 'name': 'Drama'}]</td>\n",
       "      <td>NaN</td>\n",
       "      <td>84308</td>\n",
       "      <td>tt1760980</td>\n",
       "      <td>en</td>\n",
       "      <td>Madrid, 1987</td>\n",
       "      <td>Two characters: old and young; teacher and pup...</td>\n",
       "      <td>...</td>\n",
       "      <td>2011-09-22</td>\n",
       "      <td>0.0</td>\n",
       "      <td>104.0</td>\n",
       "      <td>[{'iso_639_1': 'es', 'name': 'Español'}]</td>\n",
       "      <td>Released</td>\n",
       "      <td>NaN</td>\n",
       "      <td>Madrid, 1987</td>\n",
       "      <td>False</td>\n",
       "      <td>6.3</td>\n",
       "      <td>15.0</td>\n",
       "    </tr>\n",
       "  </tbody>\n",
       "</table>\n",
       "<p>5 rows × 24 columns</p>\n",
       "</div>"
      ],
      "text/plain": [
       "       adult belongs_to_collection   budget  \\\n",
       "18702  False                   NaN  2391200   \n",
       "44728  False                   NaN        0   \n",
       "31941  False                   NaN        0   \n",
       "39992  False                   NaN        0   \n",
       "19754  False                   NaN        0   \n",
       "\n",
       "                                                  genres  \\\n",
       "18702  [{'id': 18, 'name': 'Drama'}, {'id': 10769, 'n...   \n",
       "44728                                                 []   \n",
       "31941                                                 []   \n",
       "39992  [{'id': 28, 'name': 'Action'}, {'id': 12, 'nam...   \n",
       "19754                      [{'id': 18, 'name': 'Drama'}]   \n",
       "\n",
       "                              homepage      id    imdb_id original_language  \\\n",
       "18702  http://www.united-red-army.com/   46101  tt0923869                ja   \n",
       "44728                              NaN  196491  tt0173368                fr   \n",
       "31941                              NaN  138550  tt1920996                en   \n",
       "39992                              NaN   21837  tt1209380                en   \n",
       "19754                              NaN   84308  tt1760980                en   \n",
       "\n",
       "                      original_title  \\\n",
       "18702              実録・連合赤軍 あさま山荘への道程   \n",
       "44728                    Les tulipes   \n",
       "31941  La máquina que hace estrellas   \n",
       "39992                        Cop Dog   \n",
       "19754                   Madrid, 1987   \n",
       "\n",
       "                                                overview  ... release_date  \\\n",
       "18702  The film is told in three acts, beginning with...  ...   2007-08-26   \n",
       "44728  Magical flowery frolics, similar to a Melies f...  ...   1907-05-23   \n",
       "31941  Pilo is a 10-year-old boy who lives with his m...  ...   2012-08-30   \n",
       "39992  Ever since Robby's father was killed while on ...  ...   2008-01-01   \n",
       "19754  Two characters: old and young; teacher and pup...  ...   2011-09-22   \n",
       "\n",
       "      revenue runtime                          spoken_languages    status  \\\n",
       "18702     0.0   190.0      [{'iso_639_1': 'ja', 'name': '日本語'}]  Released   \n",
       "44728     0.0     3.0                                        []  Released   \n",
       "31941     0.0    80.0  [{'iso_639_1': 'es', 'name': 'Español'}]  Released   \n",
       "39992     0.0     0.0                                        []  Released   \n",
       "19754     0.0   104.0  [{'iso_639_1': 'es', 'name': 'Español'}]  Released   \n",
       "\n",
       "       tagline                    title  video vote_average vote_count  \n",
       "18702      NaN          United Red Army  False          6.1        8.0  \n",
       "44728      NaN              Les tulipes  False          4.5        2.0  \n",
       "31941      NaN  The Star Making Machine  False          4.5        2.0  \n",
       "39992      NaN                  Cop Dog  False          7.0        1.0  \n",
       "19754      NaN             Madrid, 1987  False          6.3       15.0  \n",
       "\n",
       "[5 rows x 24 columns]"
      ]
     },
     "execution_count": 3,
     "metadata": {},
     "output_type": "execute_result"
    }
   ],
   "source": [
    "movies_metadata_pd = pd.read_csv(\"Resources/movies_metadata.csv\", low_memory=False)\n",
    "movies_metadata_pd.head()\n",
    "movies_metadata_pd.sample(n=5)"
   ]
  },
  {
   "cell_type": "code",
   "execution_count": 6,
   "id": "aa4a5645",
   "metadata": {},
   "outputs": [
    {
     "data": {
      "text/plain": [
       "adult                     object\n",
       "belongs_to_collection     object\n",
       "budget                    object\n",
       "genres                    object\n",
       "homepage                  object\n",
       "id                        object\n",
       "imdb_id                   object\n",
       "original_language         object\n",
       "original_title            object\n",
       "overview                  object\n",
       "popularity                object\n",
       "poster_path               object\n",
       "production_companies      object\n",
       "production_countries      object\n",
       "release_date              object\n",
       "revenue                  float64\n",
       "runtime                  float64\n",
       "spoken_languages          object\n",
       "status                    object\n",
       "tagline                   object\n",
       "title                     object\n",
       "video                     object\n",
       "vote_average             float64\n",
       "vote_count               float64\n",
       "dtype: object"
      ]
     },
     "execution_count": 6,
     "metadata": {},
     "output_type": "execute_result"
    }
   ],
   "source": [
    "movies_metadata_pd.dtypes"
   ]
  },
  {
   "cell_type": "code",
   "execution_count": 8,
   "id": "7e292819",
   "metadata": {},
   "outputs": [],
   "source": [
    "movies_metadata_pd = movies_metadata_pd[movies_metadata_pd['adult'] == 'False'].drop('adult',axis='columns')"
   ]
  },
  {
   "cell_type": "code",
   "execution_count": 10,
   "id": "72cc317c",
   "metadata": {},
   "outputs": [
    {
     "data": {
      "text/plain": [
       "False    45358\n",
       "True        93\n",
       "Name: video, dtype: int64"
      ]
     },
     "execution_count": 10,
     "metadata": {},
     "output_type": "execute_result"
    }
   ],
   "source": [
    "movies_metadata_pd['video'].value_counts()"
   ]
  },
  {
   "cell_type": "code",
   "execution_count": 12,
   "id": "38d7fa49",
   "metadata": {},
   "outputs": [
    {
     "data": {
      "text/plain": [
       "0        False\n",
       "1        False\n",
       "2        False\n",
       "3        False\n",
       "4        False\n",
       "         ...  \n",
       "45461    False\n",
       "45462    False\n",
       "45463    False\n",
       "45464    False\n",
       "45465    False\n",
       "Name: video, Length: 45454, dtype: bool"
      ]
     },
     "execution_count": 12,
     "metadata": {},
     "output_type": "execute_result"
    }
   ],
   "source": [
    "movies_metadata_pd['video'] == 'True'"
   ]
  },
  {
   "cell_type": "code",
   "execution_count": 13,
   "id": "816c3d53",
   "metadata": {},
   "outputs": [],
   "source": [
    "movies_metadata_pd['video'] = movies_metadata_pd['video'] == 'True'"
   ]
  },
  {
   "cell_type": "code",
   "execution_count": 14,
   "id": "f9d7334e",
   "metadata": {},
   "outputs": [],
   "source": [
    "movies_metadata_pd['budget'] = movies_metadata_pd['budget'].astype(int)\n",
    "movies_metadata_pd['id'] = pd.to_numeric(movies_metadata_pd['id'], errors='raise')\n",
    "movies_metadata_pd['popularity'] = pd.to_numeric(movies_metadata_pd['popularity'], errors='raise')"
   ]
  },
  {
   "cell_type": "code",
   "execution_count": 15,
   "id": "6ceacbf8",
   "metadata": {},
   "outputs": [],
   "source": [
    "movies_metadata_pd['release_date'] = pd.to_datetime(movies_metadata_pd['release_date'])"
   ]
  },
  {
   "cell_type": "code",
   "execution_count": 20,
   "id": "36426446",
   "metadata": {},
   "outputs": [
    {
     "name": "stderr",
     "output_type": "stream",
     "text": [
      "C:\\Users\\User\\AppData\\Local\\Temp\\ipykernel_13896\\1290786186.py:1: FutureWarning: null_counts is deprecated. Use show_counts instead\n",
      "  ratings_pd.info(null_counts=True)\n"
     ]
    },
    {
     "name": "stdout",
     "output_type": "stream",
     "text": [
      "<class 'pandas.core.frame.DataFrame'>\n",
      "RangeIndex: 26024289 entries, 0 to 26024288\n",
      "Data columns (total 4 columns):\n",
      " #   Column     Non-Null Count     Dtype  \n",
      "---  ------     --------------     -----  \n",
      " 0   userId     26024289 non-null  int64  \n",
      " 1   movieId    26024289 non-null  int64  \n",
      " 2   rating     26024289 non-null  float64\n",
      " 3   timestamp  26024289 non-null  int64  \n",
      "dtypes: float64(1), int64(3)\n",
      "memory usage: 794.2 MB\n"
     ]
    }
   ],
   "source": [
    "ratings_pd.info(null_counts=True)"
   ]
  },
  {
   "cell_type": "code",
   "execution_count": 21,
   "id": "1f709aa3",
   "metadata": {},
   "outputs": [
    {
     "data": {
      "text/plain": [
       "0          2015-03-09 22:52:09\n",
       "1          2015-03-09 23:07:15\n",
       "2          2015-03-09 22:52:03\n",
       "3          2015-03-09 22:52:26\n",
       "4          2015-03-09 22:52:36\n",
       "                   ...        \n",
       "26024284   2009-10-31 23:26:04\n",
       "26024285   2009-10-31 23:33:52\n",
       "26024286   2009-10-31 23:29:24\n",
       "26024287   2009-11-01 00:06:30\n",
       "26024288   2009-10-31 23:30:58\n",
       "Name: timestamp, Length: 26024289, dtype: datetime64[ns]"
      ]
     },
     "execution_count": 21,
     "metadata": {},
     "output_type": "execute_result"
    }
   ],
   "source": [
    "pd.to_datetime(ratings_pd['timestamp'], unit='s')"
   ]
  },
  {
   "cell_type": "code",
   "execution_count": 23,
   "id": "aa0f541f",
   "metadata": {},
   "outputs": [],
   "source": [
    "ratings_pd['timestamp'] = pd.to_datetime(ratings_pd['timestamp'], unit='s')"
   ]
  }
 ],
 "metadata": {
  "kernelspec": {
   "display_name": "PythonData",
   "language": "python",
   "name": "pythondata"
  },
  "language_info": {
   "codemirror_mode": {
    "name": "ipython",
    "version": 3
   },
   "file_extension": ".py",
   "mimetype": "text/x-python",
   "name": "python",
   "nbconvert_exporter": "python",
   "pygments_lexer": "ipython3",
   "version": "3.9.12"
  }
 },
 "nbformat": 4,
 "nbformat_minor": 5
}
